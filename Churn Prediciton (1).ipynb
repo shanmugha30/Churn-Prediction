{
 "cells": [
  {
   "cell_type": "markdown",
   "id": "c91fdcf4",
   "metadata": {},
   "source": [
    "# Churn Prediciton\n",
    "\n",
    "* Load data & packages for model building \n",
    "* preprocessing and missing value imputaion\n",
    "* selecting features and building the model"
   ]
  },
  {
   "cell_type": "code",
   "execution_count": 45,
   "id": "bb1af334",
   "metadata": {},
   "outputs": [],
   "source": [
    "import numpy as np\n",
    "import seaborn as sns\n",
    "import pandas as pd\n",
    "import matplotlib.pyplot as plt\n",
    "%matplotlib inline\n",
    "import warnings\n",
    "warnings.filterwarnings(\"ignore\")"
   ]
  },
  {
   "cell_type": "code",
   "execution_count": 46,
   "id": "54fbde31",
   "metadata": {},
   "outputs": [
    {
     "data": {
      "text/html": [
       "<div>\n",
       "<style scoped>\n",
       "    .dataframe tbody tr th:only-of-type {\n",
       "        vertical-align: middle;\n",
       "    }\n",
       "\n",
       "    .dataframe tbody tr th {\n",
       "        vertical-align: top;\n",
       "    }\n",
       "\n",
       "    .dataframe thead th {\n",
       "        text-align: right;\n",
       "    }\n",
       "</style>\n",
       "<table border=\"1\" class=\"dataframe\">\n",
       "  <thead>\n",
       "    <tr style=\"text-align: right;\">\n",
       "      <th></th>\n",
       "      <th>customer_id</th>\n",
       "      <th>vintage</th>\n",
       "      <th>age</th>\n",
       "      <th>gender</th>\n",
       "      <th>dependents</th>\n",
       "      <th>occupation</th>\n",
       "      <th>city</th>\n",
       "      <th>customer_nw_category</th>\n",
       "      <th>branch_code</th>\n",
       "      <th>days_since_last_transaction</th>\n",
       "      <th>...</th>\n",
       "      <th>previous_month_end_balance</th>\n",
       "      <th>average_monthly_balance_prevQ</th>\n",
       "      <th>average_monthly_balance_prevQ2</th>\n",
       "      <th>current_month_credit</th>\n",
       "      <th>previous_month_credit</th>\n",
       "      <th>current_month_debit</th>\n",
       "      <th>previous_month_debit</th>\n",
       "      <th>current_month_balance</th>\n",
       "      <th>previous_month_balance</th>\n",
       "      <th>churn</th>\n",
       "    </tr>\n",
       "  </thead>\n",
       "  <tbody>\n",
       "    <tr>\n",
       "      <th>0</th>\n",
       "      <td>1</td>\n",
       "      <td>3135</td>\n",
       "      <td>66</td>\n",
       "      <td>Male</td>\n",
       "      <td>0.0</td>\n",
       "      <td>self_employed</td>\n",
       "      <td>187.0</td>\n",
       "      <td>2</td>\n",
       "      <td>755</td>\n",
       "      <td>224.0</td>\n",
       "      <td>...</td>\n",
       "      <td>1458.71</td>\n",
       "      <td>1458.71</td>\n",
       "      <td>1449.07</td>\n",
       "      <td>0.20</td>\n",
       "      <td>0.20</td>\n",
       "      <td>0.20</td>\n",
       "      <td>0.20</td>\n",
       "      <td>1458.71</td>\n",
       "      <td>1458.71</td>\n",
       "      <td>0</td>\n",
       "    </tr>\n",
       "    <tr>\n",
       "      <th>1</th>\n",
       "      <td>2</td>\n",
       "      <td>310</td>\n",
       "      <td>35</td>\n",
       "      <td>Male</td>\n",
       "      <td>0.0</td>\n",
       "      <td>self_employed</td>\n",
       "      <td>NaN</td>\n",
       "      <td>2</td>\n",
       "      <td>3214</td>\n",
       "      <td>60.0</td>\n",
       "      <td>...</td>\n",
       "      <td>8704.66</td>\n",
       "      <td>7799.26</td>\n",
       "      <td>12419.41</td>\n",
       "      <td>0.56</td>\n",
       "      <td>0.56</td>\n",
       "      <td>5486.27</td>\n",
       "      <td>100.56</td>\n",
       "      <td>6496.78</td>\n",
       "      <td>8787.61</td>\n",
       "      <td>0</td>\n",
       "    </tr>\n",
       "    <tr>\n",
       "      <th>2</th>\n",
       "      <td>4</td>\n",
       "      <td>2356</td>\n",
       "      <td>31</td>\n",
       "      <td>Male</td>\n",
       "      <td>0.0</td>\n",
       "      <td>salaried</td>\n",
       "      <td>146.0</td>\n",
       "      <td>2</td>\n",
       "      <td>41</td>\n",
       "      <td>NaN</td>\n",
       "      <td>...</td>\n",
       "      <td>5815.29</td>\n",
       "      <td>4910.17</td>\n",
       "      <td>2815.94</td>\n",
       "      <td>0.61</td>\n",
       "      <td>0.61</td>\n",
       "      <td>6046.73</td>\n",
       "      <td>259.23</td>\n",
       "      <td>5006.28</td>\n",
       "      <td>5070.14</td>\n",
       "      <td>0</td>\n",
       "    </tr>\n",
       "    <tr>\n",
       "      <th>3</th>\n",
       "      <td>5</td>\n",
       "      <td>478</td>\n",
       "      <td>90</td>\n",
       "      <td>NaN</td>\n",
       "      <td>NaN</td>\n",
       "      <td>self_employed</td>\n",
       "      <td>1020.0</td>\n",
       "      <td>2</td>\n",
       "      <td>582</td>\n",
       "      <td>147.0</td>\n",
       "      <td>...</td>\n",
       "      <td>2291.91</td>\n",
       "      <td>2084.54</td>\n",
       "      <td>1006.54</td>\n",
       "      <td>0.47</td>\n",
       "      <td>0.47</td>\n",
       "      <td>0.47</td>\n",
       "      <td>2143.33</td>\n",
       "      <td>2291.91</td>\n",
       "      <td>1669.79</td>\n",
       "      <td>1</td>\n",
       "    </tr>\n",
       "    <tr>\n",
       "      <th>4</th>\n",
       "      <td>6</td>\n",
       "      <td>2531</td>\n",
       "      <td>42</td>\n",
       "      <td>Male</td>\n",
       "      <td>2.0</td>\n",
       "      <td>self_employed</td>\n",
       "      <td>1494.0</td>\n",
       "      <td>3</td>\n",
       "      <td>388</td>\n",
       "      <td>58.0</td>\n",
       "      <td>...</td>\n",
       "      <td>1401.72</td>\n",
       "      <td>1643.31</td>\n",
       "      <td>1871.12</td>\n",
       "      <td>0.33</td>\n",
       "      <td>714.61</td>\n",
       "      <td>588.62</td>\n",
       "      <td>1538.06</td>\n",
       "      <td>1157.15</td>\n",
       "      <td>1677.16</td>\n",
       "      <td>1</td>\n",
       "    </tr>\n",
       "  </tbody>\n",
       "</table>\n",
       "<p>5 rows × 21 columns</p>\n",
       "</div>"
      ],
      "text/plain": [
       "   customer_id  vintage  age gender  dependents     occupation    city  \\\n",
       "0            1     3135   66   Male         0.0  self_employed   187.0   \n",
       "1            2      310   35   Male         0.0  self_employed     NaN   \n",
       "2            4     2356   31   Male         0.0       salaried   146.0   \n",
       "3            5      478   90    NaN         NaN  self_employed  1020.0   \n",
       "4            6     2531   42   Male         2.0  self_employed  1494.0   \n",
       "\n",
       "   customer_nw_category  branch_code  days_since_last_transaction  ...  \\\n",
       "0                     2          755                        224.0  ...   \n",
       "1                     2         3214                         60.0  ...   \n",
       "2                     2           41                          NaN  ...   \n",
       "3                     2          582                        147.0  ...   \n",
       "4                     3          388                         58.0  ...   \n",
       "\n",
       "   previous_month_end_balance  average_monthly_balance_prevQ  \\\n",
       "0                     1458.71                        1458.71   \n",
       "1                     8704.66                        7799.26   \n",
       "2                     5815.29                        4910.17   \n",
       "3                     2291.91                        2084.54   \n",
       "4                     1401.72                        1643.31   \n",
       "\n",
       "   average_monthly_balance_prevQ2  current_month_credit  \\\n",
       "0                         1449.07                  0.20   \n",
       "1                        12419.41                  0.56   \n",
       "2                         2815.94                  0.61   \n",
       "3                         1006.54                  0.47   \n",
       "4                         1871.12                  0.33   \n",
       "\n",
       "   previous_month_credit  current_month_debit  previous_month_debit  \\\n",
       "0                   0.20                 0.20                  0.20   \n",
       "1                   0.56              5486.27                100.56   \n",
       "2                   0.61              6046.73                259.23   \n",
       "3                   0.47                 0.47               2143.33   \n",
       "4                 714.61               588.62               1538.06   \n",
       "\n",
       "   current_month_balance  previous_month_balance  churn  \n",
       "0                1458.71                 1458.71      0  \n",
       "1                6496.78                 8787.61      0  \n",
       "2                5006.28                 5070.14      0  \n",
       "3                2291.91                 1669.79      1  \n",
       "4                1157.15                 1677.16      1  \n",
       "\n",
       "[5 rows x 21 columns]"
      ]
     },
     "execution_count": 46,
     "metadata": {},
     "output_type": "execute_result"
    }
   ],
   "source": [
    "data=pd.read_csv(\"churn_prediction.csv\")\n",
    "data.head()"
   ]
  },
  {
   "cell_type": "code",
   "execution_count": 47,
   "id": "4d189762",
   "metadata": {},
   "outputs": [
    {
     "data": {
      "text/plain": [
       "(28382, 21)"
      ]
     },
     "execution_count": 47,
     "metadata": {},
     "output_type": "execute_result"
    }
   ],
   "source": [
    "data.shape"
   ]
  },
  {
   "cell_type": "code",
   "execution_count": 48,
   "id": "50056e09",
   "metadata": {},
   "outputs": [
    {
     "data": {
      "text/plain": [
       "<AxesSubplot: >"
      ]
     },
     "execution_count": 48,
     "metadata": {},
     "output_type": "execute_result"
    },
    {
     "data": {
      "image/png": "[encoded data removed]",
      "text/plain": [
       "<Figure size 640x480 with 1 Axes>"
      ]
     },
     "metadata": {},
     "output_type": "display_data"
    }
   ],
   "source": [
    "data['churn'].value_counts()\n",
    "data['churn'].value_counts(normalize=True)\n",
    "data['churn'].value_counts().plot.bar()"
   ]
  },
  {
   "cell_type": "code",
   "execution_count": 51,
   "id": "00d9d509",
   "metadata": {},
   "outputs": [
    {
     "data": {
      "text/plain": [
       "<AxesSubplot: title={'center': 'dependents'}>"
      ]
     },
     "execution_count": 51,
     "metadata": {},
     "output_type": "execute_result"
    },
    {
     "data": {
      "image/png": "[encoded data removed]",
      "text/plain": [
       "<Figure size 2000x1000 with 3 Axes>"
      ]
     },
     "metadata": {},
     "output_type": "display_data"
    }
   ],
   "source": [
    "plt.figure(1)\n",
    "plt.subplot(221)\n",
    "data['gender'].value_counts(normalize=True).plot.bar(figsize=(20,10),title=\"gender\")\n",
    "plt.subplot(222)\n",
    "data['occupation'].value_counts(normalize=True).plot.bar(figsize=(20,10),title=\"occupation\")\n",
    "plt.subplot(223)\n",
    "data['dependents'].value_counts(normalize=True).plot.bar(figsize=(20,10),title=\"dependents\")"
   ]
  },
  {
   "cell_type": "markdown",
   "id": "445ee35b",
   "metadata": {},
   "source": [
    "<b>We can infer few things from above plots:</b>\n",
    "\n",
    "<i>1.Around 60% applicants are male.</i>\n",
    "\n",
    "<i>2.Around 60% applicants are self employed.</i>\n",
    "\n",
    "<i>3.Most of applicants have no dependents.</i>"
   ]
  },
  {
   "cell_type": "code",
   "execution_count": 52,
   "id": "b91755c1",
   "metadata": {},
   "outputs": [
    {
     "data": {
      "text/plain": [
       "<AxesSubplot: >"
      ]
     },
     "execution_count": 52,
     "metadata": {},
     "output_type": "execute_result"
    },
    {
     "data": {
      "image/png": "[encoded data removed]",
      "text/plain": [
       "<Figure size 2000x1000 with 2 Axes>"
      ]
     },
     "metadata": {},
     "output_type": "display_data"
    }
   ],
   "source": [
    "import seaborn as sns\n",
    "\n",
    "plt.figure(1)\n",
    "plt.subplot(121)\n",
    "sns.distplot(data['days_since_last_transaction']);\n",
    "plt.subplot(122)\n",
    "data['days_since_last_transaction'].plot.box(figsize=(20,10))"
   ]
  },
  {
   "cell_type": "markdown",
   "id": "8974dac9",
   "metadata": {},
   "source": [
    "**Here the distribution is rightskewed hence to reduce skewness we will apply log transformations & there are many outliers in the in this column."
   ]
  },
  {
   "cell_type": "markdown",
   "id": "cf83a5b1",
   "metadata": {},
   "source": [
    "## Missing Values"
   ]
  },
  {
   "cell_type": "code",
   "execution_count": 4,
   "id": "70c98629",
   "metadata": {},
   "outputs": [
    {
     "data": {
      "text/plain": [
       "customer_id                          0\n",
       "vintage                              0\n",
       "age                                  0\n",
       "gender                             525\n",
       "dependents                        2463\n",
       "occupation                          80\n",
       "city                               803\n",
       "customer_nw_category                 0\n",
       "branch_code                          0\n",
       "days_since_last_transaction       3223\n",
       "current_balance                      0\n",
       "previous_month_end_balance           0\n",
       "average_monthly_balance_prevQ        0\n",
       "average_monthly_balance_prevQ2       0\n",
       "current_month_credit                 0\n",
       "previous_month_credit                0\n",
       "current_month_debit                  0\n",
       "previous_month_debit                 0\n",
       "current_month_balance                0\n",
       "previous_month_balance               0\n",
       "churn                                0\n",
       "dtype: int64"
      ]
     },
     "execution_count": 4,
     "metadata": {},
     "output_type": "execute_result"
    }
   ],
   "source": [
    "data.isnull().sum()"
   ]
  },
  {
   "cell_type": "markdown",
   "id": "56f26405",
   "metadata": {},
   "source": [
    "The result of function shows us there quite few missing values in column gender,dependents,city, days_since_last_transaction.Let us go through each one them and find appropriate missing value imputation.\n"
   ]
  },
  {
   "cell_type": "code",
   "execution_count": 5,
   "id": "39857e6b",
   "metadata": {},
   "outputs": [
    {
     "data": {
      "text/plain": [
       "Male      16548\n",
       "Female    11309\n",
       "Name: gender, dtype: int64"
      ]
     },
     "execution_count": 5,
     "metadata": {},
     "output_type": "execute_result"
    }
   ],
   "source": [
    "data[\"gender\"].value_counts()"
   ]
  },
  {
   "cell_type": "markdown",
   "id": "79c0ed93",
   "metadata": {},
   "source": [
    "<b>Gender</b>\n",
    "\n",
    "There is good mix of values and argubaly We cannot fill this with any one of the value.So we assign -1 for alll the missing values."
   ]
  },
  {
   "cell_type": "code",
   "execution_count": 6,
   "id": "c916e05a",
   "metadata": {},
   "outputs": [],
   "source": [
    "dict_gender={\"Male\" : 1, \"Female\": 0}\n",
    "data.replace({\"gender\":dict_gender},inplace=True)\n",
    "\n",
    "data[\"gender\"]=data[\"gender\"].fillna(-1)"
   ]
  },
  {
   "cell_type": "markdown",
   "id": "cb97e1fa",
   "metadata": {},
   "source": [
    "<b>Dependents,city,occupation</b>"
   ]
  },
  {
   "cell_type": "code",
   "execution_count": 7,
   "id": "83e48a1f",
   "metadata": {},
   "outputs": [
    {
     "data": {
      "text/plain": [
       "0.0     21435\n",
       "2.0      2150\n",
       "1.0      1395\n",
       "3.0       701\n",
       "4.0       179\n",
       "5.0        41\n",
       "6.0         8\n",
       "7.0         3\n",
       "9.0         1\n",
       "52.0        1\n",
       "36.0        1\n",
       "50.0        1\n",
       "8.0         1\n",
       "25.0        1\n",
       "32.0        1\n",
       "Name: dependents, dtype: int64"
      ]
     },
     "execution_count": 7,
     "metadata": {},
     "output_type": "execute_result"
    }
   ],
   "source": [
    "data[\"dependents\"].value_counts()"
   ]
  },
  {
   "cell_type": "code",
   "execution_count": 8,
   "id": "e0c86b28",
   "metadata": {},
   "outputs": [
    {
     "data": {
      "text/plain": [
       "self_employed    17476\n",
       "salaried          6704\n",
       "student           2058\n",
       "retired           2024\n",
       "company             40\n",
       "Name: occupation, dtype: int64"
      ]
     },
     "execution_count": 8,
     "metadata": {},
     "output_type": "execute_result"
    }
   ],
   "source": [
    "data[\"occupation\"].value_counts()"
   ]
  },
  {
   "cell_type": "code",
   "execution_count": 9,
   "id": "994940b8",
   "metadata": {},
   "outputs": [
    {
     "data": {
      "text/plain": [
       "1020.0    3479\n",
       "1096.0    2016\n",
       "409.0     1334\n",
       "146.0     1291\n",
       "834.0     1138\n",
       "          ... \n",
       "748.0        1\n",
       "1099.0       1\n",
       "108.0        1\n",
       "655.0        1\n",
       "723.0        1\n",
       "Name: city, Length: 1604, dtype: int64"
      ]
     },
     "execution_count": 9,
     "metadata": {},
     "output_type": "execute_result"
    }
   ],
   "source": [
    "data[\"city\"].value_counts()"
   ]
  },
  {
   "cell_type": "markdown",
   "id": "f69e2f91",
   "metadata": {},
   "source": [
    "<i><b>We will fill this missing values with mode as this is sort of ordinal varible.</b></i>"
   ]
  },
  {
   "cell_type": "code",
   "execution_count": 10,
   "id": "99a3fc5c",
   "metadata": {},
   "outputs": [],
   "source": [
    "data[\"city\"]=data[\"city\"].fillna(1020)"
   ]
  },
  {
   "cell_type": "code",
   "execution_count": 11,
   "id": "889e6cc1",
   "metadata": {},
   "outputs": [],
   "source": [
    "data[\"occupation\"]=data[\"occupation\"].fillna(\"self_employed\")"
   ]
  },
  {
   "cell_type": "code",
   "execution_count": 12,
   "id": "6a0eff45",
   "metadata": {},
   "outputs": [],
   "source": [
    "data[\"dependents\"]=data[\"dependents\"].fillna(0)"
   ]
  },
  {
   "cell_type": "markdown",
   "id": "f39c3d4c",
   "metadata": {},
   "source": [
    "<b>Days since last transaction</b>\n",
    "\n",
    "A fair assumption can be made on this columns as it is number of transaction made since one year, we can substitute the missing value greater than one year say 999 , which represents customer is inactive"
   ]
  },
  {
   "cell_type": "code",
   "execution_count": 13,
   "id": "cc6ec7fc",
   "metadata": {},
   "outputs": [],
   "source": [
    "data[\"days_since_last_transaction\"]=data[\"days_since_last_transaction\"].fillna(999)"
   ]
  },
  {
   "cell_type": "markdown",
   "id": "1c76ce25",
   "metadata": {},
   "source": [
    "# Preprocessing\n",
    "\n",
    "<b>since we are applying the linear models we need to scale data & all features in numerically strict.</b>\n",
    "Now, we remember that there are a lot of outliers in the dataset especially when it comes to previous and current balance features. Also, the distributions are skewed for these features if you recall from the EDA. We will take 2 steps to deal with that here:\n",
    "* Log Transformation\n",
    "* Standard Scaler"
   ]
  },
  {
   "cell_type": "code",
   "execution_count": 19,
   "id": "a87c6efb",
   "metadata": {},
   "outputs": [
    {
     "data": {
      "text/html": [
       "<div>\n",
       "<style scoped>\n",
       "    .dataframe tbody tr th:only-of-type {\n",
       "        vertical-align: middle;\n",
       "    }\n",
       "\n",
       "    .dataframe tbody tr th {\n",
       "        vertical-align: top;\n",
       "    }\n",
       "\n",
       "    .dataframe thead th {\n",
       "        text-align: right;\n",
       "    }\n",
       "</style>\n",
       "<table border=\"1\" class=\"dataframe\">\n",
       "  <thead>\n",
       "    <tr style=\"text-align: right;\">\n",
       "      <th></th>\n",
       "      <th>customer_id</th>\n",
       "      <th>vintage</th>\n",
       "      <th>age</th>\n",
       "      <th>gender</th>\n",
       "      <th>dependents</th>\n",
       "      <th>occupation</th>\n",
       "      <th>city</th>\n",
       "      <th>customer_nw_category</th>\n",
       "      <th>branch_code</th>\n",
       "      <th>days_since_last_transaction</th>\n",
       "      <th>...</th>\n",
       "      <th>current_month_debit</th>\n",
       "      <th>previous_month_debit</th>\n",
       "      <th>current_month_balance</th>\n",
       "      <th>previous_month_balance</th>\n",
       "      <th>churn</th>\n",
       "      <th>occupation_company</th>\n",
       "      <th>occupation_retired</th>\n",
       "      <th>occupation_salaried</th>\n",
       "      <th>occupation_self_employed</th>\n",
       "      <th>occupation_student</th>\n",
       "    </tr>\n",
       "  </thead>\n",
       "  <tbody>\n",
       "    <tr>\n",
       "      <th>0</th>\n",
       "      <td>1</td>\n",
       "      <td>3135</td>\n",
       "      <td>66</td>\n",
       "      <td>1.0</td>\n",
       "      <td>0.0</td>\n",
       "      <td>self_employed</td>\n",
       "      <td>187.0</td>\n",
       "      <td>2</td>\n",
       "      <td>755</td>\n",
       "      <td>224.0</td>\n",
       "      <td>...</td>\n",
       "      <td>0.20</td>\n",
       "      <td>0.20</td>\n",
       "      <td>1458.71</td>\n",
       "      <td>1458.71</td>\n",
       "      <td>0</td>\n",
       "      <td>0</td>\n",
       "      <td>0</td>\n",
       "      <td>0</td>\n",
       "      <td>1</td>\n",
       "      <td>0</td>\n",
       "    </tr>\n",
       "    <tr>\n",
       "      <th>1</th>\n",
       "      <td>2</td>\n",
       "      <td>310</td>\n",
       "      <td>35</td>\n",
       "      <td>1.0</td>\n",
       "      <td>0.0</td>\n",
       "      <td>self_employed</td>\n",
       "      <td>1020.0</td>\n",
       "      <td>2</td>\n",
       "      <td>3214</td>\n",
       "      <td>60.0</td>\n",
       "      <td>...</td>\n",
       "      <td>5486.27</td>\n",
       "      <td>100.56</td>\n",
       "      <td>6496.78</td>\n",
       "      <td>8787.61</td>\n",
       "      <td>0</td>\n",
       "      <td>0</td>\n",
       "      <td>0</td>\n",
       "      <td>0</td>\n",
       "      <td>1</td>\n",
       "      <td>0</td>\n",
       "    </tr>\n",
       "    <tr>\n",
       "      <th>2</th>\n",
       "      <td>4</td>\n",
       "      <td>2356</td>\n",
       "      <td>31</td>\n",
       "      <td>1.0</td>\n",
       "      <td>0.0</td>\n",
       "      <td>salaried</td>\n",
       "      <td>146.0</td>\n",
       "      <td>2</td>\n",
       "      <td>41</td>\n",
       "      <td>999.0</td>\n",
       "      <td>...</td>\n",
       "      <td>6046.73</td>\n",
       "      <td>259.23</td>\n",
       "      <td>5006.28</td>\n",
       "      <td>5070.14</td>\n",
       "      <td>0</td>\n",
       "      <td>0</td>\n",
       "      <td>0</td>\n",
       "      <td>1</td>\n",
       "      <td>0</td>\n",
       "      <td>0</td>\n",
       "    </tr>\n",
       "    <tr>\n",
       "      <th>3</th>\n",
       "      <td>5</td>\n",
       "      <td>478</td>\n",
       "      <td>90</td>\n",
       "      <td>-1.0</td>\n",
       "      <td>0.0</td>\n",
       "      <td>self_employed</td>\n",
       "      <td>1020.0</td>\n",
       "      <td>2</td>\n",
       "      <td>582</td>\n",
       "      <td>147.0</td>\n",
       "      <td>...</td>\n",
       "      <td>0.47</td>\n",
       "      <td>2143.33</td>\n",
       "      <td>2291.91</td>\n",
       "      <td>1669.79</td>\n",
       "      <td>1</td>\n",
       "      <td>0</td>\n",
       "      <td>0</td>\n",
       "      <td>0</td>\n",
       "      <td>1</td>\n",
       "      <td>0</td>\n",
       "    </tr>\n",
       "    <tr>\n",
       "      <th>4</th>\n",
       "      <td>6</td>\n",
       "      <td>2531</td>\n",
       "      <td>42</td>\n",
       "      <td>1.0</td>\n",
       "      <td>2.0</td>\n",
       "      <td>self_employed</td>\n",
       "      <td>1494.0</td>\n",
       "      <td>3</td>\n",
       "      <td>388</td>\n",
       "      <td>58.0</td>\n",
       "      <td>...</td>\n",
       "      <td>588.62</td>\n",
       "      <td>1538.06</td>\n",
       "      <td>1157.15</td>\n",
       "      <td>1677.16</td>\n",
       "      <td>1</td>\n",
       "      <td>0</td>\n",
       "      <td>0</td>\n",
       "      <td>0</td>\n",
       "      <td>1</td>\n",
       "      <td>0</td>\n",
       "    </tr>\n",
       "  </tbody>\n",
       "</table>\n",
       "<p>5 rows × 26 columns</p>\n",
       "</div>"
      ],
      "text/plain": [
       "   customer_id  vintage  age  gender  dependents     occupation    city  \\\n",
       "0            1     3135   66     1.0         0.0  self_employed   187.0   \n",
       "1            2      310   35     1.0         0.0  self_employed  1020.0   \n",
       "2            4     2356   31     1.0         0.0       salaried   146.0   \n",
       "3            5      478   90    -1.0         0.0  self_employed  1020.0   \n",
       "4            6     2531   42     1.0         2.0  self_employed  1494.0   \n",
       "\n",
       "   customer_nw_category  branch_code  days_since_last_transaction  ...  \\\n",
       "0                     2          755                        224.0  ...   \n",
       "1                     2         3214                         60.0  ...   \n",
       "2                     2           41                        999.0  ...   \n",
       "3                     2          582                        147.0  ...   \n",
       "4                     3          388                         58.0  ...   \n",
       "\n",
       "   current_month_debit  previous_month_debit  current_month_balance  \\\n",
       "0                 0.20                  0.20                1458.71   \n",
       "1              5486.27                100.56                6496.78   \n",
       "2              6046.73                259.23                5006.28   \n",
       "3                 0.47               2143.33                2291.91   \n",
       "4               588.62               1538.06                1157.15   \n",
       "\n",
       "   previous_month_balance  churn  occupation_company  occupation_retired  \\\n",
       "0                 1458.71      0                   0                   0   \n",
       "1                 8787.61      0                   0                   0   \n",
       "2                 5070.14      0                   0                   0   \n",
       "3                 1669.79      1                   0                   0   \n",
       "4                 1677.16      1                   0                   0   \n",
       "\n",
       "   occupation_salaried  occupation_self_employed  occupation_student  \n",
       "0                    0                         1                   0  \n",
       "1                    0                         1                   0  \n",
       "2                    1                         0                   0  \n",
       "3                    0                         1                   0  \n",
       "4                    0                         1                   0  \n",
       "\n",
       "[5 rows x 26 columns]"
      ]
     },
     "execution_count": 19,
     "metadata": {},
     "output_type": "execute_result"
    }
   ],
   "source": [
    "data=pd.concat([data,pd.get_dummies(data['occupation'],prefix = str('occupation'),prefix_sep='_')],axis = 1)\n",
    "data.head()"
   ]
  },
  {
   "cell_type": "code",
   "execution_count": 20,
   "id": "1f4740cf",
   "metadata": {},
   "outputs": [],
   "source": [
    "num_cols = ['current_balance','previous_month_end_balance', 'average_monthly_balance_prevQ2', 'average_monthly_balance_prevQ',\n",
    "            'current_month_credit','previous_month_credit', 'current_month_debit', \n",
    "            'previous_month_debit','current_month_balance', 'previous_month_balance']\n",
    "\n",
    "for i in num_cols:\n",
    "    data[i] = np.log(data[i] + 17000)    "
   ]
  },
  {
   "cell_type": "code",
   "execution_count": 16,
   "id": "54c0c969",
   "metadata": {},
   "outputs": [],
   "source": [
    "from sklearn.preprocessing import StandardScaler\n",
    "\n",
    "std=StandardScaler()\n",
    "scaled=std.fit_transform(data[num_cols])\n",
    "scaled=pd.DataFrame(scaled,columns=num_cols)"
   ]
  },
  {
   "cell_type": "code",
   "execution_count": 17,
   "id": "33fab275",
   "metadata": {},
   "outputs": [],
   "source": [
    "df_copy=data.copy()\n",
    "data=data.drop(columns=num_cols,axis=1)"
   ]
  },
  {
   "cell_type": "code",
   "execution_count": 18,
   "id": "7732d7f5",
   "metadata": {},
   "outputs": [
    {
     "data": {
      "text/html": [
       "<div>\n",
       "<style scoped>\n",
       "    .dataframe tbody tr th:only-of-type {\n",
       "        vertical-align: middle;\n",
       "    }\n",
       "\n",
       "    .dataframe tbody tr th {\n",
       "        vertical-align: top;\n",
       "    }\n",
       "\n",
       "    .dataframe thead th {\n",
       "        text-align: right;\n",
       "    }\n",
       "</style>\n",
       "<table border=\"1\" class=\"dataframe\">\n",
       "  <thead>\n",
       "    <tr style=\"text-align: right;\">\n",
       "      <th></th>\n",
       "      <th>customer_id</th>\n",
       "      <th>vintage</th>\n",
       "      <th>age</th>\n",
       "      <th>gender</th>\n",
       "      <th>dependents</th>\n",
       "      <th>occupation</th>\n",
       "      <th>city</th>\n",
       "      <th>customer_nw_category</th>\n",
       "      <th>branch_code</th>\n",
       "      <th>days_since_last_transaction</th>\n",
       "      <th>...</th>\n",
       "      <th>current_balance</th>\n",
       "      <th>previous_month_end_balance</th>\n",
       "      <th>average_monthly_balance_prevQ2</th>\n",
       "      <th>average_monthly_balance_prevQ</th>\n",
       "      <th>current_month_credit</th>\n",
       "      <th>previous_month_credit</th>\n",
       "      <th>current_month_debit</th>\n",
       "      <th>previous_month_debit</th>\n",
       "      <th>current_month_balance</th>\n",
       "      <th>previous_month_balance</th>\n",
       "    </tr>\n",
       "  </thead>\n",
       "  <tbody>\n",
       "    <tr>\n",
       "      <th>0</th>\n",
       "      <td>1</td>\n",
       "      <td>3135</td>\n",
       "      <td>66</td>\n",
       "      <td>1.0</td>\n",
       "      <td>0.0</td>\n",
       "      <td>self_employed</td>\n",
       "      <td>187.0</td>\n",
       "      <td>2</td>\n",
       "      <td>755</td>\n",
       "      <td>224.0</td>\n",
       "      <td>...</td>\n",
       "      <td>-0.613738</td>\n",
       "      <td>-0.632367</td>\n",
       "      <td>-0.630646</td>\n",
       "      <td>-0.697612</td>\n",
       "      <td>-0.313931</td>\n",
       "      <td>-0.324487</td>\n",
       "      <td>-0.368251</td>\n",
       "      <td>-0.377390</td>\n",
       "      <td>-0.653455</td>\n",
       "      <td>-0.666207</td>\n",
       "    </tr>\n",
       "    <tr>\n",
       "      <th>1</th>\n",
       "      <td>2</td>\n",
       "      <td>310</td>\n",
       "      <td>35</td>\n",
       "      <td>1.0</td>\n",
       "      <td>0.0</td>\n",
       "      <td>self_employed</td>\n",
       "      <td>1020.0</td>\n",
       "      <td>2</td>\n",
       "      <td>3214</td>\n",
       "      <td>60.0</td>\n",
       "      <td>...</td>\n",
       "      <td>0.011267</td>\n",
       "      <td>0.446458</td>\n",
       "      <td>0.949414</td>\n",
       "      <td>0.317595</td>\n",
       "      <td>-0.313852</td>\n",
       "      <td>-0.324410</td>\n",
       "      <td>0.640986</td>\n",
       "      <td>-0.355677</td>\n",
       "      <td>0.149440</td>\n",
       "      <td>0.455680</td>\n",
       "    </tr>\n",
       "    <tr>\n",
       "      <th>2</th>\n",
       "      <td>4</td>\n",
       "      <td>2356</td>\n",
       "      <td>31</td>\n",
       "      <td>1.0</td>\n",
       "      <td>0.0</td>\n",
       "      <td>salaried</td>\n",
       "      <td>146.0</td>\n",
       "      <td>2</td>\n",
       "      <td>41</td>\n",
       "      <td>999.0</td>\n",
       "      <td>...</td>\n",
       "      <td>-0.209651</td>\n",
       "      <td>0.057975</td>\n",
       "      <td>-0.388637</td>\n",
       "      <td>-0.108263</td>\n",
       "      <td>-0.313841</td>\n",
       "      <td>-0.324400</td>\n",
       "      <td>0.729825</td>\n",
       "      <td>-0.321607</td>\n",
       "      <td>-0.068597</td>\n",
       "      <td>-0.066642</td>\n",
       "    </tr>\n",
       "    <tr>\n",
       "      <th>3</th>\n",
       "      <td>5</td>\n",
       "      <td>478</td>\n",
       "      <td>90</td>\n",
       "      <td>-1.0</td>\n",
       "      <td>0.0</td>\n",
       "      <td>self_employed</td>\n",
       "      <td>1020.0</td>\n",
       "      <td>2</td>\n",
       "      <td>582</td>\n",
       "      <td>147.0</td>\n",
       "      <td>...</td>\n",
       "      <td>-0.470836</td>\n",
       "      <td>-0.488530</td>\n",
       "      <td>-0.712855</td>\n",
       "      <td>-0.582976</td>\n",
       "      <td>-0.313872</td>\n",
       "      <td>-0.324429</td>\n",
       "      <td>-0.368193</td>\n",
       "      <td>0.060593</td>\n",
       "      <td>-0.506570</td>\n",
       "      <td>-0.628056</td>\n",
       "    </tr>\n",
       "    <tr>\n",
       "      <th>4</th>\n",
       "      <td>6</td>\n",
       "      <td>2531</td>\n",
       "      <td>42</td>\n",
       "      <td>1.0</td>\n",
       "      <td>2.0</td>\n",
       "      <td>self_employed</td>\n",
       "      <td>1494.0</td>\n",
       "      <td>3</td>\n",
       "      <td>388</td>\n",
       "      <td>58.0</td>\n",
       "      <td>...</td>\n",
       "      <td>-0.708214</td>\n",
       "      <td>-0.642441</td>\n",
       "      <td>-0.554058</td>\n",
       "      <td>-0.663399</td>\n",
       "      <td>-0.313902</td>\n",
       "      <td>-0.175104</td>\n",
       "      <td>-0.245463</td>\n",
       "      <td>-0.057927</td>\n",
       "      <td>-0.708257</td>\n",
       "      <td>-0.626732</td>\n",
       "    </tr>\n",
       "  </tbody>\n",
       "</table>\n",
       "<p>5 rows × 26 columns</p>\n",
       "</div>"
      ],
      "text/plain": [
       "   customer_id  vintage  age  gender  dependents     occupation    city  \\\n",
       "0            1     3135   66     1.0         0.0  self_employed   187.0   \n",
       "1            2      310   35     1.0         0.0  self_employed  1020.0   \n",
       "2            4     2356   31     1.0         0.0       salaried   146.0   \n",
       "3            5      478   90    -1.0         0.0  self_employed  1020.0   \n",
       "4            6     2531   42     1.0         2.0  self_employed  1494.0   \n",
       "\n",
       "   customer_nw_category  branch_code  days_since_last_transaction  ...  \\\n",
       "0                     2          755                        224.0  ...   \n",
       "1                     2         3214                         60.0  ...   \n",
       "2                     2           41                        999.0  ...   \n",
       "3                     2          582                        147.0  ...   \n",
       "4                     3          388                         58.0  ...   \n",
       "\n",
       "   current_balance  previous_month_end_balance  \\\n",
       "0        -0.613738                   -0.632367   \n",
       "1         0.011267                    0.446458   \n",
       "2        -0.209651                    0.057975   \n",
       "3        -0.470836                   -0.488530   \n",
       "4        -0.708214                   -0.642441   \n",
       "\n",
       "   average_monthly_balance_prevQ2  average_monthly_balance_prevQ  \\\n",
       "0                       -0.630646                      -0.697612   \n",
       "1                        0.949414                       0.317595   \n",
       "2                       -0.388637                      -0.108263   \n",
       "3                       -0.712855                      -0.582976   \n",
       "4                       -0.554058                      -0.663399   \n",
       "\n",
       "   current_month_credit  previous_month_credit  current_month_debit  \\\n",
       "0             -0.313931              -0.324487            -0.368251   \n",
       "1             -0.313852              -0.324410             0.640986   \n",
       "2             -0.313841              -0.324400             0.729825   \n",
       "3             -0.313872              -0.324429            -0.368193   \n",
       "4             -0.313902              -0.175104            -0.245463   \n",
       "\n",
       "   previous_month_debit  current_month_balance  previous_month_balance  \n",
       "0             -0.377390              -0.653455               -0.666207  \n",
       "1             -0.355677               0.149440                0.455680  \n",
       "2             -0.321607              -0.068597               -0.066642  \n",
       "3              0.060593              -0.506570               -0.628056  \n",
       "4             -0.057927              -0.708257               -0.626732  \n",
       "\n",
       "[5 rows x 26 columns]"
      ]
     },
     "execution_count": 18,
     "metadata": {},
     "output_type": "execute_result"
    }
   ],
   "source": [
    "data = data.merge(scaled,left_index=True,right_index=True,how = \"left\")\n",
    "data.head()"
   ]
  },
  {
   "cell_type": "markdown",
   "id": "09f75caa",
   "metadata": {},
   "source": [
    "## Model Building and Evaluation Metrics\n",
    "Since this is a binary classification problem, we could use the following 2 popular metrics:\n",
    "\n",
    "1. Recall\n",
    "2. Area under the Receiver operating characteristic curve\n",
    "\n",
    "Now, we are looking at the recall value here because a customer falsely marked as churn would not be as bad as a customer who was not detected as a churning customer and appropriate measures were not taken by the bank to stop him/her from churning\n",
    "\n",
    "The ROC AUC is the area under the curve when plotting the (normalized) true positive rate (x-axis) and the false positive rate (y-axis).\n",
    "\n",
    "Our main metric here would be Recall values, while AUC ROC Score would take care of how well predicted probabilites are able to differentiate between the 2 classes."
   ]
  },
  {
   "cell_type": "code",
   "execution_count": null,
   "id": "ce47acee",
   "metadata": {},
   "outputs": [],
   "source": [
    "y_all = data.churn\n",
    "data = data.drop(['churn','customer_id','occupation'],axis = 1)"
   ]
  },
  {
   "cell_type": "code",
   "execution_count": 20,
   "id": "36c99c4a",
   "metadata": {},
   "outputs": [],
   "source": [
    "baseline_cols = ['current_month_debit', 'previous_month_debit','current_balance','previous_month_end_balance','vintage'\n",
    "                 ,'occupation_retired', 'occupation_salaried','occupation_self_employed', 'occupation_student']"
   ]
  },
  {
   "cell_type": "code",
   "execution_count": 21,
   "id": "e78f7af8",
   "metadata": {},
   "outputs": [],
   "source": [
    "df_baseline = data[baseline_cols]"
   ]
  },
  {
   "cell_type": "code",
   "execution_count": 22,
   "id": "e529abf0",
   "metadata": {},
   "outputs": [],
   "source": [
    "from sklearn.model_selection import train_test_split\n",
    "# Splitting the data into Train and Validation set\n",
    "xtrain, xtest, ytrain, ytest = train_test_split(df_baseline,y_all,test_size=1/3, random_state=11, stratify = y_all)"
   ]
  },
  {
   "cell_type": "code",
   "execution_count": 23,
   "id": "c19429e4",
   "metadata": {},
   "outputs": [],
   "source": [
    "from sklearn.linear_model import LogisticRegression\n",
    "\n",
    "model = LogisticRegression()\n",
    "model.fit(xtrain,ytrain)\n",
    "pred = model.predict_proba(xtest)[:,1]"
   ]
  },
  {
   "cell_type": "code",
   "execution_count": 24,
   "id": "6701ecac",
   "metadata": {},
   "outputs": [
    {
     "data": {
      "image/png": "[encoded data removed]",
      "text/plain": [
       "<Figure size 800x500 with 1 Axes>"
      ]
     },
     "metadata": {},
     "output_type": "display_data"
    }
   ],
   "source": [
    "from sklearn.metrics import roc_curve,recall_score,precision_score,roc_auc_score,accuracy_score\n",
    "\n",
    "fpr, tpr, _ = roc_curve(ytest,pred) \n",
    "auc = roc_auc_score(ytest, pred) \n",
    "plt.figure(figsize=(8,5)) \n",
    "plt.plot(fpr,tpr,label=\"Validation AUC-ROC=\"+str(auc))\n",
    "\n",
    "plt.xlabel('False Positive Rate') \n",
    "plt.ylabel('True Positive Rate') \n",
    "plt.legend(loc=4) \n",
    "plt.show()"
   ]
  },
  {
   "cell_type": "code",
   "execution_count": 25,
   "id": "345aa6f4",
   "metadata": {},
   "outputs": [],
   "source": [
    "pred_val = model.predict(xtest)\n",
    "y_pred=np.where(pred_val>0.5,1,0)"
   ]
  },
  {
   "cell_type": "code",
   "execution_count": 26,
   "id": "fe735d78",
   "metadata": {},
   "outputs": [
    {
     "data": {
      "text/plain": [
       "0.11580148317170565"
      ]
     },
     "execution_count": 26,
     "metadata": {},
     "output_type": "execute_result"
    }
   ],
   "source": [
    "# Recall Score\n",
    "recall_score(ytest,pred_val)"
   ]
  },
  {
   "cell_type": "code",
   "execution_count": 27,
   "id": "b834ed01",
   "metadata": {},
   "outputs": [
    {
     "data": {
      "text/plain": [
       "0.8240143748018179"
      ]
     },
     "execution_count": 27,
     "metadata": {},
     "output_type": "execute_result"
    }
   ],
   "source": [
    "accuracy_score(ytest,y_pred)"
   ]
  },
  {
   "cell_type": "markdown",
   "id": "d9da8862",
   "metadata": {},
   "source": [
    "## Cross Validation"
   ]
  },
  {
   "cell_type": "code",
   "execution_count": 28,
   "id": "d711a9f4",
   "metadata": {},
   "outputs": [],
   "source": [
    "from sklearn.model_selection import StratifiedKFold\n",
    "\n",
    "def cv_score(ml_model,rstate=15,thres=0.5,cols=data.columns):\n",
    "    i=1\n",
    "    cv_scores=[]\n",
    "    df1=data.copy()\n",
    "    df1=data[cols]\n",
    "    \n",
    "    kf=StratifiedKFold(n_splits=5,random_state=rstate,shuffle=True)\n",
    "    for df_index,test_index in kf.split(df1,y_all):\n",
    "        print('\\n{} of kfold {}'.format(i,kf.n_splits))\n",
    "        xtr,xvl = df1.loc[df_index],df1.loc[test_index]\n",
    "        ytr,yvl = y_all.loc[df_index],y_all.loc[test_index]\n",
    "        \n",
    "        model = ml_model\n",
    "        model.fit(xtr, ytr)\n",
    "        pred_probs = model.predict_proba(xvl)\n",
    "        pp = []\n",
    "        \n",
    "        for j in pred_probs[:,1]:\n",
    "            if j>thres:\n",
    "                pp.append(1)\n",
    "            else:\n",
    "                pp.append(0)\n",
    "         \n",
    "        pred_val=pp\n",
    "        roc_score = roc_auc_score(yvl,pred_probs[:,1])\n",
    "        recall = recall_score(yvl,pred_val)\n",
    "        precision = precision_score(yvl,pred_val)\n",
    "        accuracy=accuracy_score(yvl,pred_val)\n",
    "        msg = \"\"\n",
    "        msg += \"ROC AUC Score: {}, Recall Score: {:.4f}, Precision Score: {:.4f},Acuuracy Score: {:.4f} \".format(roc_score, recall,precision,accuracy)\n",
    "        print(\"{}\".format(msg))\n",
    "         \n",
    "         # Save scores\n",
    "        cv_scores.append(roc_score)\n",
    "        i+=1\n",
    "    return cv_scores        "
   ]
  },
  {
   "cell_type": "code",
   "execution_count": 29,
   "id": "a91db674",
   "metadata": {},
   "outputs": [
    {
     "name": "stdout",
     "output_type": "stream",
     "text": [
      "\n",
      "1 of kfold 5\n",
      "ROC AUC Score: 0.7582201212619464, Recall Score: 0.1226, Precision Score: 0.6293,Acuuracy Score: 0.8240 \n",
      "\n",
      "2 of kfold 5\n",
      "ROC AUC Score: 0.7717504881307163, Recall Score: 0.1274, Precision Score: 0.6233,Acuuracy Score: 0.8240 \n",
      "\n",
      "3 of kfold 5\n",
      "ROC AUC Score: 0.7429478123725446, Recall Score: 0.1245, Precision Score: 0.6550,Acuuracy Score: 0.8256 \n",
      "\n",
      "4 of kfold 5\n",
      "ROC AUC Score: 0.770264580893865, Recall Score: 0.1112, Precision Score: 0.6257,Acuuracy Score: 0.8229 \n",
      "\n",
      "5 of kfold 5\n",
      "ROC AUC Score: 0.7701603552962228, Recall Score: 0.1274, Precision Score: 0.6381,Acuuracy Score: 0.8249 \n"
     ]
    }
   ],
   "source": [
    "baseline_scores = cv_score(LogisticRegression(), cols = baseline_cols)"
   ]
  },
  {
   "cell_type": "code",
   "execution_count": 30,
   "id": "69ddfcc3",
   "metadata": {},
   "outputs": [
    {
     "name": "stdout",
     "output_type": "stream",
     "text": [
      "\n",
      "1 of kfold 5\n",
      "ROC AUC Score: 0.7591417120542595, Recall Score: 0.1644, Precision Score: 0.6455,Acuuracy Score: 0.8284 \n",
      "\n",
      "2 of kfold 5\n",
      "ROC AUC Score: 0.7597872777720686, Recall Score: 0.1188, Precision Score: 0.5531,Acuuracy Score: 0.8189 \n",
      "\n",
      "3 of kfold 5\n",
      "ROC AUC Score: 0.7238675385161893, Recall Score: 0.1103, Precision Score: 0.5524,Acuuracy Score: 0.8185 \n",
      "\n",
      "4 of kfold 5\n",
      "ROC AUC Score: 0.7422893615061771, Recall Score: 0.1312, Precision Score: 0.6699,Acuuracy Score: 0.8270 \n",
      "\n",
      "5 of kfold 5\n",
      "ROC AUC Score: 0.7455209717526018, Recall Score: 0.1207, Precision Score: 0.5546,Acuuracy Score: 0.8191 \n"
     ]
    }
   ],
   "source": [
    "all_feat_scores = cv_score(LogisticRegression())"
   ]
  },
  {
   "cell_type": "markdown",
   "id": "1c6ce636",
   "metadata": {},
   "source": [
    "### Reverse Feature Elimination or Backward Selection\n",
    "\n",
    "We have already built a model using all the features and a separate model using some baseline features. We can try using backward feature elimination to check if we can do better."
   ]
  },
  {
   "cell_type": "code",
   "execution_count": 31,
   "id": "e999c879",
   "metadata": {},
   "outputs": [
    {
     "data": {
      "text/plain": [
       "RFE(estimator=LogisticRegression(), n_features_to_select=1)"
      ]
     },
     "execution_count": 31,
     "metadata": {},
     "output_type": "execute_result"
    }
   ],
   "source": [
    "from sklearn.feature_selection import RFE\n",
    "\n",
    "# Create the RFE object and rank each feature\n",
    "model = LogisticRegression()\n",
    "rfe = RFE(estimator=model, n_features_to_select=1, step=1)\n",
    "rfe.fit(data, y_all)"
   ]
  },
  {
   "cell_type": "code",
   "execution_count": 32,
   "id": "6152e78c",
   "metadata": {},
   "outputs": [],
   "source": [
    "ranking_df = pd.DataFrame()\n",
    "ranking_df['Feature_name'] = data.columns\n",
    "ranking_df['Rank'] = rfe.ranking_"
   ]
  },
  {
   "cell_type": "code",
   "execution_count": 33,
   "id": "276e3b68",
   "metadata": {},
   "outputs": [],
   "source": [
    "ranked = ranking_df.sort_values(by=['Rank'])"
   ]
  },
  {
   "cell_type": "code",
   "execution_count": 34,
   "id": "f6fe6ab0",
   "metadata": {},
   "outputs": [
    {
     "data": {
      "text/html": [
       "<div>\n",
       "<style scoped>\n",
       "    .dataframe tbody tr th:only-of-type {\n",
       "        vertical-align: middle;\n",
       "    }\n",
       "\n",
       "    .dataframe tbody tr th {\n",
       "        vertical-align: top;\n",
       "    }\n",
       "\n",
       "    .dataframe thead th {\n",
       "        text-align: right;\n",
       "    }\n",
       "</style>\n",
       "<table border=\"1\" class=\"dataframe\">\n",
       "  <thead>\n",
       "    <tr style=\"text-align: right;\">\n",
       "      <th></th>\n",
       "      <th>Feature_name</th>\n",
       "      <th>Rank</th>\n",
       "    </tr>\n",
       "  </thead>\n",
       "  <tbody>\n",
       "    <tr>\n",
       "      <th>13</th>\n",
       "      <td>current_balance</td>\n",
       "      <td>1</td>\n",
       "    </tr>\n",
       "    <tr>\n",
       "      <th>16</th>\n",
       "      <td>average_monthly_balance_prevQ</td>\n",
       "      <td>2</td>\n",
       "    </tr>\n",
       "    <tr>\n",
       "      <th>8</th>\n",
       "      <td>occupation_company</td>\n",
       "      <td>3</td>\n",
       "    </tr>\n",
       "    <tr>\n",
       "      <th>15</th>\n",
       "      <td>average_monthly_balance_prevQ2</td>\n",
       "      <td>4</td>\n",
       "    </tr>\n",
       "    <tr>\n",
       "      <th>21</th>\n",
       "      <td>current_month_balance</td>\n",
       "      <td>5</td>\n",
       "    </tr>\n",
       "    <tr>\n",
       "      <th>22</th>\n",
       "      <td>previous_month_balance</td>\n",
       "      <td>6</td>\n",
       "    </tr>\n",
       "    <tr>\n",
       "      <th>19</th>\n",
       "      <td>current_month_debit</td>\n",
       "      <td>7</td>\n",
       "    </tr>\n",
       "    <tr>\n",
       "      <th>9</th>\n",
       "      <td>occupation_retired</td>\n",
       "      <td>8</td>\n",
       "    </tr>\n",
       "    <tr>\n",
       "      <th>5</th>\n",
       "      <td>customer_nw_category</td>\n",
       "      <td>9</td>\n",
       "    </tr>\n",
       "    <tr>\n",
       "      <th>20</th>\n",
       "      <td>previous_month_debit</td>\n",
       "      <td>10</td>\n",
       "    </tr>\n",
       "    <tr>\n",
       "      <th>11</th>\n",
       "      <td>occupation_self_employed</td>\n",
       "      <td>11</td>\n",
       "    </tr>\n",
       "    <tr>\n",
       "      <th>17</th>\n",
       "      <td>current_month_credit</td>\n",
       "      <td>12</td>\n",
       "    </tr>\n",
       "    <tr>\n",
       "      <th>2</th>\n",
       "      <td>gender</td>\n",
       "      <td>13</td>\n",
       "    </tr>\n",
       "    <tr>\n",
       "      <th>10</th>\n",
       "      <td>occupation_salaried</td>\n",
       "      <td>14</td>\n",
       "    </tr>\n",
       "    <tr>\n",
       "      <th>3</th>\n",
       "      <td>dependents</td>\n",
       "      <td>15</td>\n",
       "    </tr>\n",
       "    <tr>\n",
       "      <th>12</th>\n",
       "      <td>occupation_student</td>\n",
       "      <td>16</td>\n",
       "    </tr>\n",
       "    <tr>\n",
       "      <th>14</th>\n",
       "      <td>previous_month_end_balance</td>\n",
       "      <td>17</td>\n",
       "    </tr>\n",
       "    <tr>\n",
       "      <th>18</th>\n",
       "      <td>previous_month_credit</td>\n",
       "      <td>18</td>\n",
       "    </tr>\n",
       "    <tr>\n",
       "      <th>1</th>\n",
       "      <td>age</td>\n",
       "      <td>19</td>\n",
       "    </tr>\n",
       "    <tr>\n",
       "      <th>7</th>\n",
       "      <td>days_since_last_transaction</td>\n",
       "      <td>20</td>\n",
       "    </tr>\n",
       "    <tr>\n",
       "      <th>0</th>\n",
       "      <td>vintage</td>\n",
       "      <td>21</td>\n",
       "    </tr>\n",
       "    <tr>\n",
       "      <th>4</th>\n",
       "      <td>city</td>\n",
       "      <td>22</td>\n",
       "    </tr>\n",
       "    <tr>\n",
       "      <th>6</th>\n",
       "      <td>branch_code</td>\n",
       "      <td>23</td>\n",
       "    </tr>\n",
       "  </tbody>\n",
       "</table>\n",
       "</div>"
      ],
      "text/plain": [
       "                      Feature_name  Rank\n",
       "13                 current_balance     1\n",
       "16   average_monthly_balance_prevQ     2\n",
       "8               occupation_company     3\n",
       "15  average_monthly_balance_prevQ2     4\n",
       "21           current_month_balance     5\n",
       "22          previous_month_balance     6\n",
       "19             current_month_debit     7\n",
       "9               occupation_retired     8\n",
       "5             customer_nw_category     9\n",
       "20            previous_month_debit    10\n",
       "11        occupation_self_employed    11\n",
       "17            current_month_credit    12\n",
       "2                           gender    13\n",
       "10             occupation_salaried    14\n",
       "3                       dependents    15\n",
       "12              occupation_student    16\n",
       "14      previous_month_end_balance    17\n",
       "18           previous_month_credit    18\n",
       "1                              age    19\n",
       "7      days_since_last_transaction    20\n",
       "0                          vintage    21\n",
       "4                             city    22\n",
       "6                      branch_code    23"
      ]
     },
     "execution_count": 34,
     "metadata": {},
     "output_type": "execute_result"
    }
   ],
   "source": [
    "ranked"
   ]
  },
  {
   "cell_type": "code",
   "execution_count": 35,
   "id": "849c234d",
   "metadata": {},
   "outputs": [
    {
     "name": "stdout",
     "output_type": "stream",
     "text": [
      "\n",
      "1 of kfold 5\n",
      "ROC AUC Score: 0.7836047682663652, Recall Score: 0.2101, Precision Score: 0.7016,Acuuracy Score: 0.8371 \n",
      "\n",
      "2 of kfold 5\n",
      "ROC AUC Score: 0.7978429760559038, Recall Score: 0.2148, Precision Score: 0.7129,Acuuracy Score: 0.8385 \n",
      "\n",
      "3 of kfold 5\n",
      "ROC AUC Score: 0.7979744053179312, Recall Score: 0.2234, Precision Score: 0.7460,Acuuracy Score: 0.8420 \n",
      "\n",
      "4 of kfold 5\n",
      "ROC AUC Score: 0.805237305445551, Recall Score: 0.2139, Precision Score: 0.7500,Acuuracy Score: 0.8411 \n",
      "\n",
      "5 of kfold 5\n",
      "ROC AUC Score: 0.8029809343218387, Recall Score: 0.2414, Precision Score: 0.7362,Acuuracy Score: 0.8434 \n"
     ]
    }
   ],
   "source": [
    "rfe_top_10_scores = cv_score(LogisticRegression(), cols = ranked['Feature_name'][:10].values)"
   ]
  },
  {
   "cell_type": "code",
   "execution_count": 36,
   "id": "9aeca17e",
   "metadata": {},
   "outputs": [
    {
     "name": "stdout",
     "output_type": "stream",
     "text": [
      "\n",
      "1 of kfold 5\n",
      "ROC AUC Score: 0.7836047682663652, Recall Score: 0.6616, Precision Score: 0.5140,Acuuracy Score: 0.8214 \n",
      "\n",
      "2 of kfold 5\n",
      "ROC AUC Score: 0.7978429760559038, Recall Score: 0.6854, Precision Score: 0.5038,Acuuracy Score: 0.8166 \n",
      "\n",
      "3 of kfold 5\n",
      "ROC AUC Score: 0.7979744053179312, Recall Score: 0.6892, Precision Score: 0.5077,Acuuracy Score: 0.8185 \n",
      "\n",
      "4 of kfold 5\n",
      "ROC AUC Score: 0.805237305445551, Recall Score: 0.6768, Precision Score: 0.5398,Acuuracy Score: 0.8332 \n",
      "\n",
      "5 of kfold 5\n",
      "ROC AUC Score: 0.8029809343218387, Recall Score: 0.6930, Precision Score: 0.5222,Acuuracy Score: 0.8256 \n"
     ]
    },
    {
     "data": {
      "text/plain": [
       "[0.7836047682663652,\n",
       " 0.7978429760559038,\n",
       " 0.7979744053179312,\n",
       " 0.805237305445551,\n",
       " 0.8029809343218387]"
      ]
     },
     "execution_count": 36,
     "metadata": {},
     "output_type": "execute_result"
    }
   ],
   "source": [
    "cv_score(LogisticRegression(), cols = ranked['Feature_name'][:10].values, thres=0.2)"
   ]
  },
  {
   "cell_type": "code",
   "execution_count": 37,
   "id": "6d944bc8",
   "metadata": {},
   "outputs": [],
   "source": [
    "results_df = pd.DataFrame({'baseline':baseline_scores, 'all_feats': all_feat_scores, 'rfe_top_10': rfe_top_10_scores})"
   ]
  },
  {
   "cell_type": "code",
   "execution_count": 38,
   "id": "29b30c3f",
   "metadata": {},
   "outputs": [
    {
     "data": {
      "text/plain": [
       "<AxesSubplot: >"
      ]
     },
     "execution_count": 38,
     "metadata": {},
     "output_type": "execute_result"
    },
    {
     "data": {
      "image/png": "[encoded data removed]",
      "text/plain": [
       "<Figure size 640x480 with 1 Axes>"
      ]
     },
     "metadata": {},
     "output_type": "display_data"
    }
   ],
   "source": [
    "results_df.plot(y=[\"baseline\", \"all_feats\", \"rfe_top_10\"], kind=\"bar\")"
   ]
  },
  {
   "cell_type": "markdown",
   "id": "a79bc2f4",
   "metadata": {},
   "source": [
    "### Decision Tree Classifier"
   ]
  },
  {
   "cell_type": "code",
   "execution_count": 39,
   "id": "44177272",
   "metadata": {},
   "outputs": [
    {
     "name": "stdout",
     "output_type": "stream",
     "text": [
      "\n",
      "1 of kfold 5\n",
      "ROC AUC Score: 0.6370602199157331, Recall Score: 0.4192, Precision Score: 0.3966,Acuuracy Score: 0.7742 \n",
      "\n",
      "2 of kfold 5\n",
      "ROC AUC Score: 0.6505396156612886, Recall Score: 0.4496, Precision Score: 0.4078,Acuuracy Score: 0.7770 \n",
      "\n",
      "3 of kfold 5\n",
      "ROC AUC Score: 0.6537925783151554, Recall Score: 0.4430, Precision Score: 0.4267,Acuuracy Score: 0.7865 \n",
      "\n",
      "4 of kfold 5\n",
      "ROC AUC Score: 0.6438317358927468, Recall Score: 0.4259, Precision Score: 0.4121,Acuuracy Score: 0.7810 \n",
      "\n",
      "5 of kfold 5\n",
      "ROC AUC Score: 0.6474831265541332, Recall Score: 0.4325, Precision Score: 0.4170,Acuuracy Score: 0.7828 \n"
     ]
    }
   ],
   "source": [
    "from sklearn import tree\n",
    "\n",
    "baseline_scores = cv_score(tree.DecisionTreeClassifier(), cols = baseline_cols)"
   ]
  },
  {
   "cell_type": "code",
   "execution_count": 40,
   "id": "c29e185d",
   "metadata": {},
   "outputs": [
    {
     "name": "stdout",
     "output_type": "stream",
     "text": [
      "\n",
      "1 of kfold 5\n",
      "ROC AUC Score: 0.6457234611036893, Recall Score: 0.4363, Precision Score: 0.4066,Acuuracy Score: 0.7775 \n",
      "\n",
      "2 of kfold 5\n",
      "ROC AUC Score: 0.6566326174082828, Recall Score: 0.4601, Precision Score: 0.4162,Acuuracy Score: 0.7803 \n",
      "\n",
      "3 of kfold 5\n",
      "ROC AUC Score: 0.6583468463431, Recall Score: 0.4601, Precision Score: 0.4220,Acuuracy Score: 0.7831 \n",
      "\n",
      "4 of kfold 5\n",
      "ROC AUC Score: 0.6680938926677805, Recall Score: 0.4724, Precision Score: 0.4410,Acuuracy Score: 0.7912 \n",
      "\n",
      "5 of kfold 5\n",
      "ROC AUC Score: 0.6603108924178036, Recall Score: 0.4677, Precision Score: 0.4198,Acuuracy Score: 0.7815 \n"
     ]
    }
   ],
   "source": [
    "all_feat_scores = cv_score(tree.DecisionTreeClassifier())"
   ]
  },
  {
   "cell_type": "code",
   "execution_count": 40,
   "id": "86c998e1",
   "metadata": {},
   "outputs": [
    {
     "name": "stdout",
     "output_type": "stream",
     "text": [
      "\n",
      "1 of kfold 5\n",
      "ROC AUC Score: 0.6702298838762717, Recall Score: 0.4667, Precision Score: 0.4567,Acuuracy Score: 0.7983 \n",
      "\n",
      "2 of kfold 5\n",
      "ROC AUC Score: 0.6401934025280033, Recall Score: 0.4240, Precision Score: 0.4018,Acuuracy Score: 0.7763 \n",
      "\n",
      "3 of kfold 5\n",
      "ROC AUC Score: 0.6651114371044772, Recall Score: 0.4686, Precision Score: 0.4351,Acuuracy Score: 0.7888 \n",
      "\n",
      "4 of kfold 5\n",
      "ROC AUC Score: 0.6778660189193101, Recall Score: 0.4781, Precision Score: 0.4705,Acuuracy Score: 0.8036 \n",
      "\n",
      "5 of kfold 5\n",
      "ROC AUC Score: 0.6689186522294, Recall Score: 0.4667, Precision Score: 0.4517,Acuuracy Score: 0.7962 \n"
     ]
    }
   ],
   "source": [
    "rfe_top_10_scores = cv_score(tree.DecisionTreeClassifier(), cols = ranked['Feature_name'][:10].values)"
   ]
  },
  {
   "cell_type": "code",
   "execution_count": 41,
   "id": "f890a874",
   "metadata": {},
   "outputs": [],
   "source": [
    "results_tree = pd.DataFrame({'baseline':baseline_scores, 'all_feats': all_feat_scores, 'rfe_top_10': rfe_top_10_scores})"
   ]
  },
  {
   "cell_type": "code",
   "execution_count": 42,
   "id": "6288f334",
   "metadata": {},
   "outputs": [
    {
     "data": {
      "text/plain": [
       "<AxesSubplot: >"
      ]
     },
     "execution_count": 42,
     "metadata": {},
     "output_type": "execute_result"
    },
    {
     "data": {
      "image/png": "[encoded data removed]",
      "text/plain": [
       "<Figure size 640x480 with 1 Axes>"
      ]
     },
     "metadata": {},
     "output_type": "display_data"
    }
   ],
   "source": [
    "results_tree.plot(y=[\"baseline\", \"all_feats\", \"rfe_top_10\"], kind=\"bar\")"
   ]
  },
  {
   "cell_type": "markdown",
   "id": "b0f4ed22",
   "metadata": {},
   "source": [
    "Here I haven't seen any improvement in value of accuracy & accuracy obtained much lesser than Logistic Regression.so, let us build another model i.e. Random Forest , a tree ensemble method and try to improve the accuracy"
   ]
  },
  {
   "cell_type": "markdown",
   "id": "72592778",
   "metadata": {},
   "source": [
    "### Random Forest Classifier"
   ]
  },
  {
   "cell_type": "code",
   "execution_count": 44,
   "id": "3d452048",
   "metadata": {},
   "outputs": [
    {
     "name": "stdout",
     "output_type": "stream",
     "text": [
      "\n",
      "1 of kfold 5\n",
      "ROC AUC Score: 0.7990198335217347, Recall Score: 0.3555, Precision Score: 0.7110,Acuuracy Score: 0.8538 \n",
      "\n",
      "2 of kfold 5\n",
      "ROC AUC Score: 0.8061644229781113, Recall Score: 0.3279, Precision Score: 0.6597,Acuuracy Score: 0.8441 \n",
      "\n",
      "3 of kfold 5\n",
      "ROC AUC Score: 0.8041742865788677, Recall Score: 0.3555, Precision Score: 0.6926,Acuuracy Score: 0.8513 \n",
      "\n",
      "4 of kfold 5\n",
      "ROC AUC Score: 0.807295195672767, Recall Score: 0.3489, Precision Score: 0.7224,Acuuracy Score: 0.8545 \n",
      "\n",
      "5 of kfold 5\n",
      "ROC AUC Score: 0.8043701978107279, Recall Score: 0.3441, Precision Score: 0.6766,Acuuracy Score: 0.8480 \n"
     ]
    }
   ],
   "source": [
    "from sklearn.ensemble import RandomForestClassifier\n",
    "\n",
    "baseline_scores = cv_score(RandomForestClassifier(max_depth=4), cols = baseline_cols)"
   ]
  },
  {
   "cell_type": "code",
   "execution_count": 44,
   "id": "895b6c8b",
   "metadata": {},
   "outputs": [
    {
     "name": "stdout",
     "output_type": "stream",
     "text": [
      "\n",
      "1 of kfold 5\n",
      "ROC AUC Score: 0.806286918096804, Recall Score: 0.2091, Precision Score: 0.7458,Acuuracy Score: 0.8402 \n",
      "\n",
      "2 of kfold 5\n",
      "ROC AUC Score: 0.8099594080772787, Recall Score: 0.2177, Precision Score: 0.7134,Acuuracy Score: 0.8388 \n",
      "\n",
      "3 of kfold 5\n",
      "ROC AUC Score: 0.8124554934085019, Recall Score: 0.2395, Precision Score: 0.7590,Acuuracy Score: 0.8450 \n",
      "\n",
      "4 of kfold 5\n",
      "ROC AUC Score: 0.8195711003591775, Recall Score: 0.2624, Precision Score: 0.7954,Acuuracy Score: 0.8508 \n",
      "\n",
      "5 of kfold 5\n",
      "ROC AUC Score: 0.8116082235846698, Recall Score: 0.2804, Precision Score: 0.7338,Acuuracy Score: 0.8478 \n"
     ]
    }
   ],
   "source": [
    "all_feat_scores = cv_score(RandomForestClassifier(max_depth=4))"
   ]
  },
  {
   "cell_type": "code",
   "execution_count": 45,
   "id": "88774a47",
   "metadata": {},
   "outputs": [
    {
     "name": "stdout",
     "output_type": "stream",
     "text": [
      "\n",
      "1 of kfold 5\n",
      "ROC AUC Score: 0.8092092282396464, Recall Score: 0.3346, Precision Score: 0.7364,Acuuracy Score: 0.8545 \n",
      "\n",
      "2 of kfold 5\n",
      "ROC AUC Score: 0.816018292056315, Recall Score: 0.3118, Precision Score: 0.6749,Acuuracy Score: 0.8446 \n",
      "\n",
      "3 of kfold 5\n",
      "ROC AUC Score: 0.8178262980712303, Recall Score: 0.3574, Precision Score: 0.7203,Acuuracy Score: 0.8552 \n",
      "\n",
      "4 of kfold 5\n",
      "ROC AUC Score: 0.8237747633441657, Recall Score: 0.3441, Precision Score: 0.7449,Acuuracy Score: 0.8566 \n",
      "\n",
      "5 of kfold 5\n",
      "ROC AUC Score: 0.8186514687791915, Recall Score: 0.3574, Precision Score: 0.7068,Acuuracy Score: 0.8534 \n"
     ]
    }
   ],
   "source": [
    "rfe_top_10_scores = cv_score(RandomForestClassifier(max_depth=4), cols = ranked['Feature_name'][:10].values)"
   ]
  },
  {
   "cell_type": "code",
   "execution_count": 46,
   "id": "4d0c0c63",
   "metadata": {},
   "outputs": [],
   "source": [
    "results_ensemble = pd.DataFrame({'baseline':baseline_scores, 'all_feats': all_feat_scores, 'rfe_top_10': rfe_top_10_scores})"
   ]
  },
  {
   "cell_type": "code",
   "execution_count": 47,
   "id": "dc3903b2",
   "metadata": {},
   "outputs": [
    {
     "data": {
      "text/plain": [
       "<AxesSubplot: >"
      ]
     },
     "execution_count": 47,
     "metadata": {},
     "output_type": "execute_result"
    },
    {
     "data": {
      "image/png": "[encoded data removed]",
      "text/plain": [
       "<Figure size 640x480 with 1 Axes>"
      ]
     },
     "metadata": {},
     "output_type": "display_data"
    }
   ],
   "source": [
    "results_ensemble.plot(y=[\"baseline\", \"all_feats\", \"rfe_top_10\"], kind=\"bar\")"
   ]
  },
  {
   "cell_type": "markdown",
   "id": "74641cfe",
   "metadata": {},
   "source": [
    "### Finding the right value of hyperparameters to improve the value of accuracy for Random Forest"
   ]
  },
  {
   "cell_type": "code",
   "execution_count": 48,
   "id": "45d8b6cf",
   "metadata": {},
   "outputs": [],
   "source": [
    "from sklearn.model_selection import GridSearchCV\n",
    "\n",
    "param_grid={'max_depth':list(range(1,20,2)),'n_estimators':list(range(1,200,20))}\n",
    "grid_search=GridSearchCV(RandomForestClassifier(random_state=15),param_grid)"
   ]
  },
  {
   "cell_type": "code",
   "execution_count": null,
   "id": "7ccfbbb6",
   "metadata": {},
   "outputs": [],
   "source": [
    "grid_search.fit(xtrain,ytrain)"
   ]
  },
  {
   "cell_type": "code",
   "execution_count": 56,
   "id": "76028783",
   "metadata": {},
   "outputs": [
    {
     "data": {
      "text/plain": [
       "RandomForestClassifier(max_depth=9, n_estimators=101, random_state=15)"
      ]
     },
     "execution_count": 56,
     "metadata": {},
     "output_type": "execute_result"
    }
   ],
   "source": [
    "grid_search.best_estimator_"
   ]
  },
  {
   "cell_type": "code",
   "execution_count": 45,
   "id": "bcd1a8e9",
   "metadata": {},
   "outputs": [
    {
     "name": "stdout",
     "output_type": "stream",
     "text": [
      "\n",
      "1 of kfold 5\n",
      "ROC AUC Score: 0.8053696434076663, Recall Score: 0.3869, Precision Score: 0.7005,Acuuracy Score: 0.8557 \n",
      "\n",
      "2 of kfold 5\n",
      "ROC AUC Score: 0.8166141198232453, Recall Score: 0.3622, Precision Score: 0.6592,Acuuracy Score: 0.8471 \n",
      "\n",
      "3 of kfold 5\n",
      "ROC AUC Score: 0.8140652341231728, Recall Score: 0.3992, Precision Score: 0.6977,Acuuracy Score: 0.8566 \n",
      "\n",
      "4 of kfold 5\n",
      "ROC AUC Score: 0.8205935185246095, Recall Score: 0.3736, Precision Score: 0.7211,Acuuracy Score: 0.8571 \n",
      "\n",
      "5 of kfold 5\n",
      "ROC AUC Score: 0.8172970499427685, Recall Score: 0.3869, Precision Score: 0.6922,Acuuracy Score: 0.8545 \n"
     ]
    }
   ],
   "source": [
    "baseline_scores = cv_score(RandomForestClassifier(max_depth=9), cols = baseline_cols)"
   ]
  },
  {
   "cell_type": "code",
   "execution_count": 46,
   "id": "927a142c",
   "metadata": {},
   "outputs": [
    {
     "name": "stdout",
     "output_type": "stream",
     "text": [
      "\n",
      "1 of kfold 5\n",
      "ROC AUC Score: 0.8252395437262358, Recall Score: 0.3593, Precision Score: 0.7456,Acuuracy Score: 0.8586 \n",
      "\n",
      "2 of kfold 5\n",
      "ROC AUC Score: 0.8338355770218888, Recall Score: 0.3498, Precision Score: 0.7146,Acuuracy Score: 0.8536 \n",
      "\n",
      "3 of kfold 5\n",
      "ROC AUC Score: 0.8293399374399727, Recall Score: 0.3850, Precision Score: 0.7514,Acuuracy Score: 0.8624 \n",
      "\n",
      "4 of kfold 5\n",
      "ROC AUC Score: 0.8380200590077229, Recall Score: 0.3764, Precision Score: 0.7543,Acuuracy Score: 0.8617 \n",
      "\n",
      "5 of kfold 5\n",
      "ROC AUC Score: 0.8354753715118346, Recall Score: 0.3869, Precision Score: 0.7427,Acuuracy Score: 0.8615 \n"
     ]
    }
   ],
   "source": [
    "all_feat_scores = cv_score(RandomForestClassifier(max_depth=9))"
   ]
  },
  {
   "cell_type": "code",
   "execution_count": 49,
   "id": "5a38b9d3",
   "metadata": {},
   "outputs": [
    {
     "name": "stdout",
     "output_type": "stream",
     "text": [
      "\n",
      "1 of kfold 5\n",
      "ROC AUC Score: 0.8283211386291235, Recall Score: 0.4202, Precision Score: 0.7258,Acuuracy Score: 0.8631 \n",
      "\n",
      "2 of kfold 5\n",
      "ROC AUC Score: 0.8332039872572192, Recall Score: 0.4154, Precision Score: 0.7003,Acuuracy Score: 0.8587 \n",
      "\n",
      "3 of kfold 5\n",
      "ROC AUC Score: 0.8341156077729682, Recall Score: 0.4363, Precision Score: 0.7286,Acuuracy Score: 0.8654 \n",
      "\n",
      "4 of kfold 5\n",
      "ROC AUC Score: 0.8409003447050929, Recall Score: 0.4287, Precision Score: 0.7442,Acuuracy Score: 0.8668 \n",
      "\n",
      "5 of kfold 5\n",
      "ROC AUC Score: 0.8402908202533977, Recall Score: 0.4392, Precision Score: 0.7404,Acuuracy Score: 0.8675 \n"
     ]
    }
   ],
   "source": [
    "rfe_top_10_scores = cv_score(RandomForestClassifier(max_depth=9), cols = ranked['Feature_name'][:10].values)"
   ]
  },
  {
   "cell_type": "code",
   "execution_count": 50,
   "id": "bdb38edf",
   "metadata": {},
   "outputs": [],
   "source": [
    "results_ensemble = pd.DataFrame({'baseline':baseline_scores, 'all_feats': all_feat_scores, 'rfe_top_10': rfe_top_10_scores})"
   ]
  },
  {
   "cell_type": "code",
   "execution_count": 51,
   "id": "5eae92f7",
   "metadata": {},
   "outputs": [
    {
     "data": {
      "text/plain": [
       "<AxesSubplot: >"
      ]
     },
     "execution_count": 51,
     "metadata": {},
     "output_type": "execute_result"
    },
    {
     "data": {
      "image/png": "[encoded data removed]",
      "text/plain": [
       "<Figure size 640x480 with 1 Axes>"
      ]
     },
     "metadata": {},
     "output_type": "display_data"
    }
   ],
   "source": [
    "results_ensemble.plot(y=[\"baseline\", \"all_feats\", \"rfe_top_10\"], kind=\"bar\")"
   ]
  },
  {
   "cell_type": "code",
   "execution_count": null,
   "id": "7baee66b",
   "metadata": {},
   "outputs": [],
   "source": []
  }
 ],
 "metadata": {
  "kernelspec": {
   "display_name": "Python 3 (ipykernel)",
   "language": "python",
   "name": "python3"
  },
  "language_info": {
   "codemirror_mode": {
    "name": "ipython",
    "version": 3
   },
   "file_extension": ".py",
   "mimetype": "text/x-python",
   "name": "python",
   "nbconvert_exporter": "python",
   "pygments_lexer": "ipython3",
   "version": "3.9.13"
  }
 },
 "nbformat": 4,
 "nbformat_minor": 5
}
